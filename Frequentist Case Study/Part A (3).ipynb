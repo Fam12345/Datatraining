{
 "cells": [
  {
   "cell_type": "markdown",
   "metadata": {},
   "source": [
    "# Frequentist Inference Case Study - Part A "
   ]
  },
  {
   "cell_type": "markdown",
   "metadata": {},
   "source": [
    "## 1. Learning objectives"
   ]
  },
  {
   "cell_type": "markdown",
   "metadata": {},
   "source": [
    "Welcome to part A of the Frequentist inference case study! The purpose of this case study is to help you apply the concepts associated with Frequentist inference in Python. Frequentist inference is the process of deriving conclusions about an underlying distribution via the observation of data. In particular, you'll practice writing Python code to apply the following statistical concepts: \n",
    "* the _z_-statistic\n",
    "* the _t_-statistic\n",
    "* the difference and relationship between the two\n",
    "* the Central Limit Theorem, including its assumptions and consequences\n",
    "* how to estimate the population mean and standard deviation from a sample\n",
    "* the concept of a sampling distribution of a test statistic, particularly for the mean\n",
    "* how to combine these concepts to calculate a confidence interval"
   ]
  },
  {
   "cell_type": "markdown",
   "metadata": {},
   "source": [
    "## Prerequisites"
   ]
  },
  {
   "cell_type": "markdown",
   "metadata": {},
   "source": [
    "To be able to complete this notebook, you are expected to have a basic understanding of:\n",
    "* what a random variable is (p.400 of Professor Spiegelhalter's *The Art of Statistics, hereinafter AoS*)\n",
    "* what a population, and a population distribution, are (p. 397 of *AoS*)\n",
    "* a high-level sense of what the normal distribution is (p. 394 of *AoS*)\n",
    "* what the t-statistic is (p. 275 of *AoS*)\n",
    "\n",
    "Happily, these should all be concepts with which you are reasonably familiar after having read ten chapters of Professor Spiegelhalter's book, *The Art of Statistics*.\n",
    "\n",
    "We'll try to relate the concepts in this case study back to page numbers in *The Art of Statistics* so that you can focus on the Python aspects of this case study. The second part (part B) of this case study will involve another, more real-world application of these tools. "
   ]
  },
  {
   "cell_type": "markdown",
   "metadata": {},
   "source": [
    "For this notebook, we will use data sampled from a known normal distribution. This allows us to compare our results with theoretical expectations."
   ]
  },
  {
   "cell_type": "markdown",
   "metadata": {},
   "source": [
    "## 2. An introduction to sampling from the normal distribution"
   ]
  },
  {
   "cell_type": "markdown",
   "metadata": {},
   "source": [
    "First, let's explore the ways we can generate the normal distribution. While there's a fair amount of interest in [sklearn](https://scikit-learn.org/stable/) within the machine learning community, you're likely to have heard of [scipy](https://docs.scipy.org/doc/scipy-0.15.1/reference/index.html) if you're coming from the sciences. For this assignment, you'll use [scipy.stats](https://docs.scipy.org/doc/scipy-0.15.1/reference/tutorial/stats.html) to complete your work. \n",
    "\n",
    "This assignment will require some digging around and getting your hands dirty (your learning is maximized that way)! You should have the research skills and the tenacity to do these tasks independently, but if you struggle, reach out to your immediate community and your mentor for help. "
   ]
  },
  {
   "cell_type": "code",
<<<<<<< HEAD
   "execution_count": 1,
=======
   "execution_count": 25,
>>>>>>> 2f8959e (l)
   "metadata": {},
   "outputs": [],
   "source": [
    "from scipy.stats import norm\n",
    "from scipy.stats import t\n",
    "import numpy as np\n",
    "import pandas as pd\n",
    "from numpy.random import seed\n",
<<<<<<< HEAD
    "import matplotlib.pyplot as plt\n"
=======
    "import matplotlib.pyplot as plt \n",
    "import statistics as stat \n"
>>>>>>> 2f8959e (l)
   ]
  },
  {
   "cell_type": "markdown",
   "metadata": {},
   "source": [
    "__Q1:__ Call up the documentation for the `norm` function imported above. (Hint: that documentation is [here](https://docs.scipy.org/doc/scipy/reference/generated/scipy.stats.norm.html)). What is the second listed method?"
   ]
  },
  {
   "cell_type": "code",
<<<<<<< HEAD
   "execution_count": 2,
   "metadata": {},
   "outputs": [
    {
     "name": "stdout",
     "output_type": "stream",
     "text": [
      "Help on norm_gen in module scipy.stats._continuous_distns:\n",
      "\n",
      "<scipy.stats._continuous_distns.norm_gen object>\n",
      "    A normal continuous random variable.\n",
      "    \n",
      "    The location (``loc``) keyword specifies the mean.\n",
      "    The scale (``scale``) keyword specifies the standard deviation.\n",
      "    \n",
      "    As an instance of the `rv_continuous` class, `norm` object inherits from it\n",
      "    a collection of generic methods (see below for the full list),\n",
      "    and completes them with details specific for this particular distribution.\n",
      "    \n",
      "    Methods\n",
      "    -------\n",
      "    rvs(loc=0, scale=1, size=1, random_state=None)\n",
      "        Random variates.\n",
      "    pdf(x, loc=0, scale=1)\n",
      "        Probability density function.\n",
      "    logpdf(x, loc=0, scale=1)\n",
      "        Log of the probability density function.\n",
      "    cdf(x, loc=0, scale=1)\n",
      "        Cumulative distribution function.\n",
      "    logcdf(x, loc=0, scale=1)\n",
      "        Log of the cumulative distribution function.\n",
      "    sf(x, loc=0, scale=1)\n",
      "        Survival function  (also defined as ``1 - cdf``, but `sf` is sometimes more accurate).\n",
      "    logsf(x, loc=0, scale=1)\n",
      "        Log of the survival function.\n",
      "    ppf(q, loc=0, scale=1)\n",
      "        Percent point function (inverse of ``cdf`` --- percentiles).\n",
      "    isf(q, loc=0, scale=1)\n",
      "        Inverse survival function (inverse of ``sf``).\n",
      "    moment(order, loc=0, scale=1)\n",
      "        Non-central moment of the specified order.\n",
      "    stats(loc=0, scale=1, moments='mv')\n",
      "        Mean('m'), variance('v'), skew('s'), and/or kurtosis('k').\n",
      "    entropy(loc=0, scale=1)\n",
      "        (Differential) entropy of the RV.\n",
      "    fit(data)\n",
      "        Parameter estimates for generic data.\n",
      "        See `scipy.stats.rv_continuous.fit <https://docs.scipy.org/doc/scipy/reference/generated/scipy.stats.rv_continuous.fit.html#scipy.stats.rv_continuous.fit>`__ for detailed documentation of the\n",
      "        keyword arguments.\n",
      "    expect(func, args=(), loc=0, scale=1, lb=None, ub=None, conditional=False, **kwds)\n",
      "        Expected value of a function (of one argument) with respect to the distribution.\n",
      "    median(loc=0, scale=1)\n",
      "        Median of the distribution.\n",
      "    mean(loc=0, scale=1)\n",
      "        Mean of the distribution.\n",
      "    var(loc=0, scale=1)\n",
      "        Variance of the distribution.\n",
      "    std(loc=0, scale=1)\n",
      "        Standard deviation of the distribution.\n",
      "    interval(confidence, loc=0, scale=1)\n",
      "        Confidence interval with equal areas around the median.\n",
      "    \n",
      "    Notes\n",
      "    -----\n",
      "    The probability density function for `norm` is:\n",
      "    \n",
      "    .. math::\n",
      "    \n",
      "        f(x) = \\frac{\\exp(-x^2/2)}{\\sqrt{2\\pi}}\n",
      "    \n",
      "    for a real number :math:`x`.\n",
      "    \n",
      "    The probability density above is defined in the \"standardized\" form. To shift\n",
      "    and/or scale the distribution use the ``loc`` and ``scale`` parameters.\n",
      "    Specifically, ``norm.pdf(x, loc, scale)`` is identically\n",
      "    equivalent to ``norm.pdf(y) / scale`` with\n",
      "    ``y = (x - loc) / scale``. Note that shifting the location of a distribution\n",
      "    does not make it a \"noncentral\" distribution; noncentral generalizations of\n",
      "    some distributions are available in separate classes.\n",
      "    \n",
      "    Examples\n",
      "    --------\n",
      "    >>> import numpy as np\n",
      "    >>> from scipy.stats import norm\n",
      "    >>> import matplotlib.pyplot as plt\n",
      "    >>> fig, ax = plt.subplots(1, 1)\n",
      "    \n",
      "    Calculate the first four moments:\n",
      "    \n",
      "    \n",
      "    >>> mean, var, skew, kurt = norm.stats(moments='mvsk')\n",
      "    \n",
      "    Display the probability density function (``pdf``):\n",
      "    \n",
      "    >>> x = np.linspace(norm.ppf(0.01),\n",
      "    ...                 norm.ppf(0.99), 100)\n",
      "    >>> ax.plot(x, norm.pdf(x),\n",
      "    ...        'r-', lw=5, alpha=0.6, label='norm pdf')\n",
      "    \n",
      "    Alternatively, the distribution object can be called (as a function)\n",
      "    to fix the shape, location and scale parameters. This returns a \"frozen\"\n",
      "    RV object holding the given parameters fixed.\n",
      "    \n",
      "    Freeze the distribution and display the frozen ``pdf``:\n",
      "    \n",
      "    >>> rv = norm()\n",
      "    >>> ax.plot(x, rv.pdf(x), 'k-', lw=2, label='frozen pdf')\n",
      "    \n",
      "    Check accuracy of ``cdf`` and ``ppf``:\n",
      "    \n",
      "    >>> vals = norm.ppf([0.001, 0.5, 0.999])\n",
      "    >>> np.allclose([0.001, 0.5, 0.999], norm.cdf(vals))\n",
      "    True\n",
      "    \n",
      "    Generate random numbers:\n",
      "    \n",
      "    >>> r = norm.rvs(size=1000)\n",
      "    \n",
      "    And compare the histogram:\n",
      "    \n",
      "    >>> ax.hist(r, density=True, bins='auto', histtype='stepfilled', alpha=0.2)\n",
      "    >>> ax.set_xlim([x[0], x[-1]])\n",
      "    >>> ax.legend(loc='best', frameon=False)\n",
      "    >>> plt.show()\n",
      "\n"
     ]
    }
   ],
   "source": [
    "help(norm)"
=======
   "execution_count": 19,
   "metadata": {},
   "outputs": [
    {
     "data": {
      "image/png": "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\n",
      "text/plain": [
       "<Figure size 640x480 with 1 Axes>"
      ]
     },
     "metadata": {},
     "output_type": "display_data"
    }
   ],
   "source": [
    "#scipy.stats.norm = <scipy.stats._continuous_distns.norm_gen object>[\n",
    "#A normal continuous random variable.\n",
    "\n",
    "#The location (loc) keyword specifies the mean. The scale (scale) keyword specifies the standard deviation.\n",
    "\n",
    "#As an instance of the rv_continuous class, norm object inherits from it a collection of generic methods (see below for the full list), and completes them with details specific for this particular distribution.\n",
    "\n",
    "\n",
    "x = np.linspace(norm.ppf(0.01),\n",
    "                norm.ppf(0.99), 100)\n",
    "plt.plot(x, norm.pdf(x),\n",
    "       'r-', lw=5, alpha=0.6, label='norm pdf')\n",
    "\n",
    "\n",
    "plt.show()"
>>>>>>> 2f8959e (l)
   ]
  },
  {
   "cell_type": "markdown",
   "metadata": {},
   "source": [
<<<<<<< HEAD
    "__A:__ PDF"
=======
    "__A:__"
>>>>>>> 2f8959e (l)
   ]
  },
  {
   "cell_type": "markdown",
   "metadata": {},
   "source": [
    "__Q2:__ Use the method that generates random variates to draw five samples from the standard normal distribution. "
   ]
  },
  {
   "cell_type": "markdown",
   "metadata": {},
   "source": [
    "__A:__"
   ]
  },
  {
   "cell_type": "code",
<<<<<<< HEAD
   "execution_count": 8,
   "metadata": {},
   "outputs": [
    {
     "data": {
      "text/plain": [
       "0.19355593334131074"
      ]
     },
     "execution_count": 8,
     "metadata": {},
     "output_type": "execute_result"
    }
   ],
   "source": [
    "seed(47)\n",
    "\n",
    "# draw five samples here\n",
    "x= norm.rvs(size=5)\n",
    "x\n"
=======
   "execution_count": 20,
   "metadata": {},
   "outputs": [
    {
     "name": "stdout",
     "output_type": "stream",
     "text": [
      "[ 1.74945474 -0.286073   -0.48456513 -2.65331856 -0.00828463]\n"
     ]
    }
   ],
   "source": [
    "seed(11)\n",
    "random = norm.rvs(size=5)\n",
    "print(random)\n",
    "\n"
>>>>>>> 2f8959e (l)
   ]
  },
  {
   "cell_type": "markdown",
   "metadata": {},
   "source": [
    "__Q3:__ What is the mean of this sample? Is it exactly equal to the value you expected? Hint: the sample was drawn from the standard normal distribution. If you want a reminder of the properties of this distribution, check out p. 85 of *AoS*. "
   ]
  },
  {
<<<<<<< HEAD
   "cell_type": "code",
   "execution_count": 9,
   "metadata": {},
   "outputs": [
    {
     "data": {
      "text/plain": [
       "0.19355593334131074"
      ]
     },
     "execution_count": 9,
     "metadata": {},
     "output_type": "execute_result"
    }
   ],
   "source": [
    "np.mean(x)"
   ]
  },
  {
   "cell_type": "markdown",
   "metadata": {},
   "source": [
    "__A:__0.19355593334131074"
=======
   "cell_type": "markdown",
   "metadata": {},
   "source": [
    "__A:__"
>>>>>>> 2f8959e (l)
   ]
  },
  {
   "cell_type": "code",
<<<<<<< HEAD
   "execution_count": 10,
   "metadata": {},
   "outputs": [
    {
     "data": {
      "text/plain": [
       "0.19355593334131074"
      ]
     },
     "execution_count": 10,
     "metadata": {},
     "output_type": "execute_result"
=======
   "execution_count": 26,
   "metadata": {},
   "outputs": [
    {
     "name": "stdout",
     "output_type": "stream",
     "text": [
      "-0.33655731527333477\n"
     ]
>>>>>>> 2f8959e (l)
    }
   ],
   "source": [
    "# Calculate and print the mean here, hint: use np.mean()\n",
<<<<<<< HEAD
    "np.mean(x)"
=======
    "\n",
    "mean_random=np.mean(random)\n",
    "print(mean_random)"
>>>>>>> 2f8959e (l)
   ]
  },
  {
   "cell_type": "markdown",
   "metadata": {},
   "source": [
    "__Q4:__ What is the standard deviation of these numbers? Calculate this manually here as $\\sqrt{\\frac{\\sum_i(x_i - \\bar{x})^2}{n}}$ (This is just the definition of **standard deviation** given by Professor Spiegelhalter on p.403 of *AoS*). Hint: np.sqrt() and np.sum() will be useful here and remember that numPy supports [broadcasting](https://docs.scipy.org/doc/numpy/user/basics.broadcasting.html)."
   ]
  },
  {
   "cell_type": "markdown",
   "metadata": {},
   "source": [
    "__A:__"
   ]
  },
  {
   "cell_type": "code",
<<<<<<< HEAD
   "execution_count": 11,
   "metadata": {},
   "outputs": [
    {
     "name": "stdout",
     "output_type": "stream",
     "text": [
      "Standard Deviation of sample is  0.9606195639478641\n"
     ]
    }
   ],
   "source": [
    "sum=0\n",
    "for i in range(len(x)):\n",
    "    sum+=x[i]\n",
    "mean_of_x = sum/len(x)\n",
    "sum_of_squared_deviation = 0\n",
    "for i in range(len(x)):\n",
    "    sum_of_squared_deviation+=(x[i]- mean_of_x)**2\n",
    "Standard_Deviation = ((sum_of_squared_deviation)/len(x))**0.5\n",
    "print(\"Standard Deviation of sample is \",Standard_Deviation)"
   ]
  },
  {
   "cell_type": "code",
   "execution_count": 12,
   "metadata": {},
   "outputs": [
    {
     "name": "stdout",
     "output_type": "stream",
     "text": [
      "Standard Deviation of sample is  0.9606195639478641\n"
     ]
    }
   ],
   "source": [
    "std = np.sqrt(np.sum((np.mean(x) - x)**2)/len(x))\n",
    "\n",
    "print(\"Standard Deviation of sample is \",std)"
=======
   "execution_count": 44,
   "metadata": {},
   "outputs": [
    {
     "data": {
      "text/plain": [
       "1.40364147120498"
      ]
     },
     "execution_count": 44,
     "metadata": {},
     "output_type": "execute_result"
    }
   ],
   "source": [
    "\n",
    "std = np.sqrt(np.sum((random-np.mean(random))**2)/len(random))\n",
    "std"
>>>>>>> 2f8959e (l)
   ]
  },
  {
   "cell_type": "markdown",
   "metadata": {},
   "source": [
    "Here we have calculated the actual standard deviation of a small data set (of size 5). But in this case, this small data set is actually a sample from our larger (infinite) population. In this case, the population is infinite because we could keep drawing our normal random variates until our computers die! \n",
    "\n",
    "In general, the sample mean we calculate will not be equal to the population mean (as we saw above). A consequence of this is that the sum of squares of the deviations from the _population_ mean will be bigger than the sum of squares of the deviations from the _sample_ mean. In other words, the sum of squares of the deviations from the _sample_ mean is too small to give an unbiased estimate of the _population_ variance. An example of this effect is given [here](https://en.wikipedia.org/wiki/Bessel%27s_correction#Source_of_bias). Scaling our estimate of the variance by the factor $n/(n-1)$ gives an unbiased estimator of the population variance. This factor is known as [Bessel's correction](https://en.wikipedia.org/wiki/Bessel%27s_correction). The consequence of this is that the $n$ in the denominator is replaced by $n-1$.\n",
    "\n",
    "You can see Bessel's correction reflected in Professor Spiegelhalter's definition of **variance** on p. 405 of *AoS*.\n",
    "\n",
    "__Q5:__ If all we had to go on was our five samples, what would be our best estimate of the population standard deviation? Use Bessel's correction ($n-1$ in the denominator), thus $\\sqrt{\\frac{\\sum_i(x_i - \\bar{x})^2}{n-1}}$."
   ]
  },
  {
   "cell_type": "markdown",
   "metadata": {},
   "source": [
    "__A:__"
   ]
  },
  {
   "cell_type": "code",
<<<<<<< HEAD
   "execution_count": 13,
=======
   "execution_count": 41,
>>>>>>> 2f8959e (l)
   "metadata": {},
   "outputs": [
    {
     "data": {
      "text/plain": [
<<<<<<< HEAD
       "1.0740053227518152"
      ]
     },
     "execution_count": 13,
=======
       "0.9849920708749288"
      ]
     },
     "execution_count": 41,
>>>>>>> 2f8959e (l)
     "metadata": {},
     "output_type": "execute_result"
    }
   ],
   "source": [
<<<<<<< HEAD
    "np.sqrt(np.sum((np.mean(x) - x)**2)/(len(x)-1))"
=======
    "std = np.sqrt(np.sum((random-np.mean(random))**2)/len(random)-1)\n",
    "std"
>>>>>>> 2f8959e (l)
   ]
  },
  {
   "cell_type": "markdown",
   "metadata": {},
   "source": [
    "__Q6:__ Now use numpy's std function to calculate the standard deviation of our random samples. Which of the above standard deviations did it return?"
   ]
  },
  {
   "cell_type": "markdown",
   "metadata": {},
   "source": [
    "__A:__"
   ]
  },
  {
   "cell_type": "code",
<<<<<<< HEAD
   "execution_count": 14,
=======
   "execution_count": 42,
>>>>>>> 2f8959e (l)
   "metadata": {},
   "outputs": [
    {
     "data": {
      "text/plain": [
<<<<<<< HEAD
       "0.9606195639478641"
      ]
     },
     "execution_count": 14,
=======
       "1.40364147120498"
      ]
     },
     "execution_count": 42,
>>>>>>> 2f8959e (l)
     "metadata": {},
     "output_type": "execute_result"
    }
   ],
   "source": [
<<<<<<< HEAD
    "np.std(x)"
=======
    "np.std(random)"
>>>>>>> 2f8959e (l)
   ]
  },
  {
   "cell_type": "markdown",
   "metadata": {},
   "source": [
    "__Q7:__ Consult the documentation for np.std() to see how to apply the correction for estimating the population parameter and verify this produces the expected result."
   ]
  },
  {
   "cell_type": "markdown",
   "metadata": {},
   "source": [
    "__A:__"
   ]
  },
  {
   "cell_type": "code",
<<<<<<< HEAD
   "execution_count": 15,
   "metadata": {},
   "outputs": [],
   "source": [
    "np.std?"
   ]
  },
  {
   "cell_type": "code",
   "execution_count": 16,
=======
   "execution_count": 48,
>>>>>>> 2f8959e (l)
   "metadata": {},
   "outputs": [
    {
     "data": {
      "text/plain": [
<<<<<<< HEAD
       "1.0740053227518152"
      ]
     },
     "execution_count": 16,
=======
       "1.5693188728260745"
      ]
     },
     "execution_count": 48,
>>>>>>> 2f8959e (l)
     "metadata": {},
     "output_type": "execute_result"
    }
   ],
   "source": [
<<<<<<< HEAD
    "np.std(x, ddof=1)"
=======
    "np.std(random, ddof=1)"
>>>>>>> 2f8959e (l)
   ]
  },
  {
   "cell_type": "markdown",
   "metadata": {},
   "source": [
    "### Summary of section"
   ]
  },
  {
   "cell_type": "markdown",
   "metadata": {},
   "source": [
    "In this section, you've been introduced to the scipy.stats package and used it to draw a small sample from the standard normal distribution. You've calculated the average (the mean) of this sample and seen that this is not exactly equal to the expected population parameter (which we know because we're generating the random variates from a specific, known distribution). You've been introduced to two ways of calculating the standard deviation; one uses $n$ in the denominator and the other uses $n-1$ (Bessel's correction). You've also seen which of these calculations np.std() performs by default and how to get it to generate the other."
   ]
  },
  {
   "cell_type": "markdown",
   "metadata": {},
   "source": [
    "You use $n$ as the denominator if you want to calculate the standard deviation of a sequence of numbers. You use $n-1$ if you are using this sequence of numbers to estimate the population parameter. This brings us to some terminology that can be a little confusing.\n",
    "\n",
    "The population parameter is traditionally written as $\\sigma$ and the sample statistic as $s$. Rather unhelpfully, $s$ is also called the sample standard deviation (using $n-1$) whereas the standard deviation of the sample uses $n$. That's right, we have the sample standard deviation and the standard deviation of the sample and they're not the same thing!\n",
    "\n",
    "The sample standard deviation\n",
    "\\begin{equation}\n",
    "s = \\sqrt{\\frac{\\sum_i(x_i - \\bar{x})^2}{n-1}} \\approx \\sigma,\n",
    "\\end{equation}\n",
    "is our best (unbiased) estimate of the population parameter ($\\sigma$).\n",
    "\n",
    "If your dataset _is_ your entire population, you simply want to calculate the population parameter, $\\sigma$, via\n",
    "\\begin{equation}\n",
    "\\sigma = \\sqrt{\\frac{\\sum_i(x_i - \\bar{x})^2}{n}}\n",
    "\\end{equation}\n",
    "as you have complete, full knowledge of your population. In other words, your sample _is_ your population. It's worth noting that we're dealing with what Professor Spiegehalter describes on p. 92 of *AoS* as a **metaphorical population**: we have all the data, and we act as if the data-point is taken from a population at random. We can think of this population as an imaginary space of possibilities. \n",
    "\n",
    "If, however, you have sampled _from_ your population, you only have partial knowledge of the state of your population. In this case, the standard deviation of your sample is not an unbiased estimate of the standard deviation of the population, in which case you seek to estimate that population parameter via the sample standard deviation, which uses the $n-1$ denominator."
   ]
  },
  {
   "cell_type": "markdown",
   "metadata": {},
   "source": [
    "Great work so far! Now let's dive deeper."
   ]
  },
  {
   "cell_type": "markdown",
   "metadata": {},
   "source": [
    "## 3. Sampling distributions"
   ]
  },
  {
   "cell_type": "markdown",
   "metadata": {},
   "source": [
    "So far we've been dealing with the concept of taking a sample from a population to infer the population parameters. One statistic we calculated for a sample was the mean. As our samples will be expected to vary from one draw to another, so will our sample statistics. If we were to perform repeat draws of size $n$ and calculate the mean of each, we would expect to obtain a distribution of values. This is the sampling distribution of the mean. **The Central Limit Theorem (CLT)** tells us that such a distribution will approach a normal distribution as $n$ increases (the intuitions behind the CLT are covered in full on p. 236 of *AoS*). For the sampling distribution of the mean, the standard deviation of this distribution is given by\n",
    "\n",
    "\\begin{equation}\n",
    "\\sigma_{mean} = \\frac{\\sigma}{\\sqrt n}\n",
    "\\end{equation}\n",
    "\n",
    "where $\\sigma_{mean}$ is the standard deviation of the sampling distribution of the mean and $\\sigma$ is the standard deviation of the population (the population parameter)."
   ]
  },
  {
   "cell_type": "markdown",
   "metadata": {},
   "source": [
    "This is important because typically we are dealing with samples from populations and all we know about the population is what we see in the sample. From this sample, we want to make inferences about the population. We may do this, for example, by looking at the histogram of the values and by calculating the mean and standard deviation (as estimates of the population parameters), and so we are intrinsically interested in how these quantities vary across samples. \n",
    "\n",
    "In other words, now that we've taken one sample of size $n$ and made some claims about the general population, what if we were to take another sample of size $n$? Would we get the same result? Would we make the same claims about the general population? This brings us to a fundamental question: _when we make some inference about a population based on our sample, how confident can we be that we've got it 'right'?_\n",
    "\n",
    "We need to think about **estimates and confidence intervals**: those concepts covered in Chapter 7, p. 189, of *AoS*."
   ]
  },
  {
   "cell_type": "markdown",
   "metadata": {},
   "source": [
    "Now, the standard normal distribution (with its variance equal to its standard deviation of one) would not be a great illustration of a key point. Instead, let's imagine we live in a town of 50,000 people and we know the height of everyone in this town. We will have 50,000 numbers that tell us everything about our population. We'll simulate these numbers now and put ourselves in one particular town, called 'town 47', where the population mean height is 172 cm and population standard deviation is 5 cm."
   ]
  },
  {
   "cell_type": "code",
<<<<<<< HEAD
   "execution_count": 18,
=======
   "execution_count": 50,
>>>>>>> 2f8959e (l)
   "metadata": {},
   "outputs": [],
   "source": [
    "seed(47)\n",
    "pop_heights = norm.rvs(172, 5, size=50000)"
   ]
  },
  {
   "cell_type": "code",
<<<<<<< HEAD
   "execution_count": 19,
=======
   "execution_count": 52,
>>>>>>> 2f8959e (l)
   "metadata": {},
   "outputs": [
    {
     "data": {
<<<<<<< HEAD
      "image/png": "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",
=======
      "image/png": "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\n",
>>>>>>> 2f8959e (l)
      "text/plain": [
       "<Figure size 640x480 with 1 Axes>"
      ]
     },
     "metadata": {},
     "output_type": "display_data"
    }
   ],
   "source": [
    "_ = plt.hist(pop_heights, bins=30)\n",
    "_ = plt.xlabel('height (cm)')\n",
    "_ = plt.ylabel('number of people')\n",
    "_ = plt.title('Distribution of heights in entire town population')\n",
    "_ = plt.axvline(172, color='r')\n",
    "_ = plt.axvline(172+5, color='r', linestyle='--')\n",
    "_ = plt.axvline(172-5, color='r', linestyle='--')\n",
    "_ = plt.axvline(172+10, color='r', linestyle='-.')\n",
    "_ = plt.axvline(172-10, color='r', linestyle='-.')"
   ]
  },
  {
   "cell_type": "markdown",
   "metadata": {},
   "source": [
    "Now, 50,000 people is rather a lot to chase after with a tape measure. If all you want to know is the average height of the townsfolk, then can you just go out and measure a sample to get a pretty good estimate of the average height?"
   ]
  },
  {
   "cell_type": "code",
<<<<<<< HEAD
   "execution_count": 20,
=======
   "execution_count": 53,
>>>>>>> 2f8959e (l)
   "metadata": {},
   "outputs": [],
   "source": [
    "def townsfolk_sampler(n):\n",
    "    return np.random.choice(pop_heights, n)"
   ]
  },
  {
   "cell_type": "markdown",
   "metadata": {},
   "source": [
    "Let's say you go out one day and randomly sample 10 people to measure."
   ]
  },
  {
   "cell_type": "code",
<<<<<<< HEAD
   "execution_count": 21,
=======
   "execution_count": 54,
>>>>>>> 2f8959e (l)
   "metadata": {},
   "outputs": [],
   "source": [
    "seed(47)\n",
    "daily_sample1 = townsfolk_sampler(10)"
   ]
  },
  {
   "cell_type": "code",
<<<<<<< HEAD
   "execution_count": 22,
=======
   "execution_count": 55,
>>>>>>> 2f8959e (l)
   "metadata": {},
   "outputs": [
    {
     "data": {
<<<<<<< HEAD
      "image/png": "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",
=======
      "image/png": "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\n",
>>>>>>> 2f8959e (l)
      "text/plain": [
       "<Figure size 640x480 with 1 Axes>"
      ]
     },
     "metadata": {},
     "output_type": "display_data"
    }
   ],
   "source": [
    "_ = plt.hist(daily_sample1, bins=10)\n",
    "_ = plt.xlabel('height (cm)')\n",
    "_ = plt.ylabel('number of people')\n",
    "_ = plt.title('Distribution of heights in sample size 10')"
   ]
  },
  {
   "cell_type": "markdown",
   "metadata": {},
   "source": [
    "The sample distribution doesn't resemble what we take the population distribution to be. What do we get for the mean?"
   ]
  },
  {
   "cell_type": "code",
<<<<<<< HEAD
   "execution_count": 23,
=======
   "execution_count": 56,
>>>>>>> 2f8959e (l)
   "metadata": {},
   "outputs": [
    {
     "data": {
      "text/plain": [
       "173.47911444163503"
      ]
     },
<<<<<<< HEAD
     "execution_count": 23,
=======
     "execution_count": 56,
>>>>>>> 2f8959e (l)
     "metadata": {},
     "output_type": "execute_result"
    }
   ],
   "source": [
    "np.mean(daily_sample1)"
   ]
  },
  {
   "cell_type": "markdown",
   "metadata": {},
   "source": [
    "And if we went out and repeated this experiment?"
   ]
  },
  {
   "cell_type": "code",
<<<<<<< HEAD
   "execution_count": 24,
=======
   "execution_count": 57,
>>>>>>> 2f8959e (l)
   "metadata": {},
   "outputs": [],
   "source": [
    "daily_sample2 = townsfolk_sampler(10)"
   ]
  },
  {
   "cell_type": "code",
<<<<<<< HEAD
   "execution_count": 25,
=======
   "execution_count": 58,
>>>>>>> 2f8959e (l)
   "metadata": {},
   "outputs": [
    {
     "data": {
      "text/plain": [
       "173.7317666636263"
      ]
     },
<<<<<<< HEAD
     "execution_count": 25,
=======
     "execution_count": 58,
>>>>>>> 2f8959e (l)
     "metadata": {},
     "output_type": "execute_result"
    }
   ],
   "source": [
    "np.mean(daily_sample2)"
   ]
  },
  {
   "cell_type": "markdown",
   "metadata": {},
   "source": [
    "__Q8:__ Simulate performing this random trial every day for a year, calculating the mean of each daily sample of 10, and plot the resultant sampling distribution of the mean."
   ]
  },
  {
   "cell_type": "markdown",
   "metadata": {},
   "source": [
    "__A:__"
   ]
  },
  {
   "cell_type": "code",
<<<<<<< HEAD
   "execution_count": 27,
   "metadata": {},
   "outputs": [],
   "source": [
    "daily_mean = [] "
=======
   "execution_count": 59,
   "metadata": {},
   "outputs": [],
   "source": [
    "daily_mean = []"
>>>>>>> 2f8959e (l)
   ]
  },
  {
   "cell_type": "code",
<<<<<<< HEAD
   "execution_count": 28,
=======
   "execution_count": 61,
>>>>>>> 2f8959e (l)
   "metadata": {},
   "outputs": [],
   "source": [
    "seed(47)\n",
    "# take your samples here\n",
<<<<<<< HEAD
    "seed(47)\n",
    "# take your samples here\n",
    "for _ in range(365):\n",
=======
    "for i in range(365):\n",
>>>>>>> 2f8959e (l)
    "    sample = townsfolk_sampler(10)\n",
    "    daily_mean.append(np.mean(sample))"
   ]
  },
  {
   "cell_type": "code",
<<<<<<< HEAD
   "execution_count": 29,
=======
   "execution_count": 63,
>>>>>>> 2f8959e (l)
   "metadata": {},
   "outputs": [
    {
     "data": {
      "text/plain": [
       "[173.47911444163503,\n",
       " 173.7317666636263,\n",
       " 172.54893867276104,\n",
       " 171.43257319553967,\n",
       " 172.7151613148319,\n",
       " 172.82799509412092,\n",
       " 172.72104620090087,\n",
       " 171.35684251559897,\n",
       " 172.06082915612325,\n",
       " 175.02116165843373]"
      ]
     },
<<<<<<< HEAD
     "execution_count": 29,
=======
     "execution_count": 63,
>>>>>>> 2f8959e (l)
     "metadata": {},
     "output_type": "execute_result"
    }
   ],
   "source": [
    "daily_mean[:10]"
   ]
  },
  {
   "cell_type": "code",
<<<<<<< HEAD
   "execution_count": 30,
=======
   "execution_count": 64,
>>>>>>> 2f8959e (l)
   "metadata": {},
   "outputs": [
    {
     "data": {
<<<<<<< HEAD
      "image/png": "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",
=======
      "text/plain": [
       "Text(0.5, 1.0, 'Distribution of heights in sample size 10')"
      ]
     },
     "execution_count": 64,
     "metadata": {},
     "output_type": "execute_result"
    },
    {
     "data": {
      "image/png": "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\n",
>>>>>>> 2f8959e (l)
      "text/plain": [
       "<Figure size 640x480 with 1 Axes>"
      ]
     },
     "metadata": {},
     "output_type": "display_data"
    }
   ],
   "source": [
<<<<<<< HEAD
    "_ = plt.hist(daily_mean, bins=10)\n",
    "_ = plt.xlabel('height (cm)')\n",
    "_ = plt.ylabel('number of people')\n",
    "_ = plt.title('Distribution of heights in sample size 10')"
=======
    "plt.hist(daily_mean, bins=10)\n",
    "plt.xlabel('height (cm)')\n",
    "plt.ylabel('number of people')\n",
    "plt.title('Distribution of heights in sample size 10')"
>>>>>>> 2f8959e (l)
   ]
  },
  {
   "cell_type": "markdown",
   "metadata": {},
   "source": [
    "The above is the distribution of the means of samples of size 10 taken from our population. The Central Limit Theorem tells us the expected mean of this distribution will be equal to the population mean, and standard deviation will be $\\sigma / \\sqrt n$, which, in this case, should be approximately 1.58."
   ]
  },
  {
   "cell_type": "markdown",
   "metadata": {},
   "source": [
    "__Q9:__ Verify the above results from the CLT."
   ]
  },
  {
   "cell_type": "markdown",
   "metadata": {},
   "source": [
    "__A:__"
   ]
  },
  {
   "cell_type": "code",
<<<<<<< HEAD
   "execution_count": 31,
=======
   "execution_count": 65,
>>>>>>> 2f8959e (l)
   "metadata": {},
   "outputs": [
    {
     "data": {
      "text/plain": [
       "171.8660049358649"
      ]
     },
<<<<<<< HEAD
     "execution_count": 31,
=======
     "execution_count": 65,
>>>>>>> 2f8959e (l)
     "metadata": {},
     "output_type": "execute_result"
    }
   ],
   "source": [
    "np.mean(daily_mean)"
   ]
  },
  {
   "cell_type": "code",
<<<<<<< HEAD
   "execution_count": 32,
=======
   "execution_count": 67,
>>>>>>> 2f8959e (l)
   "metadata": {},
   "outputs": [
    {
     "data": {
      "text/plain": [
       "1.5756704135286475"
      ]
     },
<<<<<<< HEAD
     "execution_count": 32,
=======
     "execution_count": 67,
>>>>>>> 2f8959e (l)
     "metadata": {},
     "output_type": "execute_result"
    }
   ],
   "source": [
    "np.std(daily_mean)"
   ]
  },
  {
   "cell_type": "markdown",
   "metadata": {},
   "source": [
    "Remember, in this instance, we knew our population parameters, that the average height really is 172 cm and the standard deviation is 5 cm, and we see some of our daily estimates of the population mean were as low as around 168 and some as high as 176."
   ]
  },
  {
   "cell_type": "markdown",
   "metadata": {},
   "source": [
    "__Q10:__ Repeat the above year's worth of samples but for a sample size of 50 (perhaps you had a bigger budget for conducting surveys that year)! Would you expect your distribution of sample means to be wider (more variable) or narrower (more consistent)? Compare your resultant summary statistics to those predicted by the CLT."
   ]
  },
  {
<<<<<<< HEAD
   "cell_type": "code",
   "execution_count": 33,
   "metadata": {},
   "outputs": [
    {
     "data": {
      "image/png": "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",
      "text/plain": [
       "<Figure size 640x480 with 1 Axes>"
      ]
     },
     "metadata": {},
     "output_type": "display_data"
    }
   ],
   "source": [
    "sample_size_50_mean = []\n",
    "seed(47)\n",
    "# calculate daily means from the larger sample size here\n",
    "for _ in range(365):\n",
    "    sample50 = townsfolk_sampler(50)\n",
    "    sample_size_50_mean.append(np.mean(sample50))\n",
    "_ = plt.hist(sample_size_50_mean, bins=10)\n",
    "_ = plt.xlabel('height (cm)')\n",
    "_ = plt.ylabel('number of people')\n",
    "_ = plt.title('Distribution of heights in sample size 50')"
=======
   "cell_type": "markdown",
   "metadata": {},
   "source": [
    "__A:__"
>>>>>>> 2f8959e (l)
   ]
  },
  {
   "cell_type": "code",
<<<<<<< HEAD
   "execution_count": 34,
=======
   "execution_count": 72,
   "metadata": {},
   "outputs": [],
   "source": [
    "seed(47)\n",
    "# calculate daily means from the larger sample size here\n",
    "sample_size_50_mean = []\n",
    "# calculate daily means from the larger sample size here\n",
    "for i in range(365):\n",
    "    sample50 = townsfolk_sampler(50)\n",
    "    sample_size_50_mean.append(np.mean(sample50))"
   ]
  },
  {
   "cell_type": "code",
   "execution_count": 73,
>>>>>>> 2f8959e (l)
   "metadata": {},
   "outputs": [
    {
     "name": "stdout",
     "output_type": "stream",
     "text": [
      "171.94366080916114\n",
      "0.6736107539771146\n"
     ]
    }
   ],
   "source": [
    "print(np.mean(sample_size_50_mean))\n",
    "print(np.std(sample_size_50_mean))"
   ]
  },
  {
   "cell_type": "markdown",
   "metadata": {},
   "source": [
    "What we've seen so far, then, is that we can estimate population parameters from a sample from the population, and that samples have their own distributions. Furthermore, the larger the sample size, the narrower are those sampling distributions."
   ]
  },
  {
   "cell_type": "markdown",
   "metadata": {},
   "source": [
    "### Normally testing time!"
   ]
  },
  {
   "cell_type": "markdown",
   "metadata": {},
   "source": [
    "All of the above is well and good. We've been sampling from a population we know is normally distributed, we've come to understand when to use $n$ and when to use $n-1$ in the denominator to calculate the spread of a distribution, and we've  seen the Central Limit Theorem in action for a sampling distribution. All seems very well behaved in Frequentist land. But, well, why should we really care?"
   ]
  },
  {
   "cell_type": "markdown",
   "metadata": {},
   "source": [
    "Remember, we rarely (if ever) actually know our population parameters but we still have to estimate them somehow. If we want to make inferences to conclusions like \"this observation is unusual\" or \"my population mean has changed\" then we need to have some idea of what the underlying distribution is so we can calculate relevant probabilities. In frequentist inference, we use the formulae above to deduce these population parameters. Take a moment in the next part of this assignment to refresh your understanding of how these probabilities work."
   ]
  },
  {
   "cell_type": "markdown",
   "metadata": {},
   "source": [
    "Recall some basic properties of the standard normal distribution, such as that about 68% of observations are within plus or minus 1 standard deviation of the mean. Check out the precise definition of a normal distribution on p. 394 of *AoS*. \n",
    "\n",
    "__Q11:__ Using this fact, calculate the probability of observing the value 1 or less in a single observation from the standard normal distribution. Hint: you may find it helpful to sketch the standard normal distribution (the familiar bell shape) and mark the number of standard deviations from the mean on the x-axis and shade the regions of the curve that contain certain percentages of the population."
   ]
  },
  {
   "cell_type": "markdown",
   "metadata": {},
   "source": [
    "__A:__"
   ]
  },
  {
   "cell_type": "markdown",
   "metadata": {},
   "source": [
    "Calculating this probability involved calculating the area under the curve from the value of 1 and below. To put it in mathematical terms, we need to *integrate* the probability density function. We could just add together the known areas of chunks (from -Inf to 0 and then 0 to $+\\sigma$ in the example above). One way to do this is to look up tables (literally). Fortunately, scipy has this functionality built in with the cdf() function."
   ]
  },
  {
   "cell_type": "markdown",
   "metadata": {},
   "source": [
    "__Q12:__ Use the cdf() function to answer the question above again and verify you get the same answer."
   ]
  },
  {
   "cell_type": "markdown",
   "metadata": {},
   "source": [
    "__A:__"
   ]
  },
  {
   "cell_type": "code",
<<<<<<< HEAD
   "execution_count": 35,
=======
   "execution_count": 74,
>>>>>>> 2f8959e (l)
   "metadata": {},
   "outputs": [
    {
     "data": {
      "text/plain": [
       "0.8413447460685429"
      ]
     },
<<<<<<< HEAD
     "execution_count": 35,
=======
     "execution_count": 74,
>>>>>>> 2f8959e (l)
     "metadata": {},
     "output_type": "execute_result"
    }
   ],
   "source": [
    "norm.cdf(1)"
   ]
  },
  {
   "cell_type": "markdown",
   "metadata": {},
   "source": [
    "__Q13:__ Using our knowledge of the population parameters for our townsfolks' heights, what is the probability of selecting one person at random and their height being 177 cm or less? Calculate this using both of the approaches given above."
   ]
  },
  {
   "cell_type": "markdown",
   "metadata": {},
   "source": [
    "__A:__"
   ]
  },
  {
   "cell_type": "code",
<<<<<<< HEAD
   "execution_count": 36,
=======
   "execution_count": 75,
>>>>>>> 2f8959e (l)
   "metadata": {},
   "outputs": [
    {
     "data": {
      "text/plain": [
<<<<<<< HEAD
       "0.8413447460685429"
      ]
     },
     "execution_count": 36,
=======
       "1.2365241000331715e-08"
      ]
     },
     "execution_count": 75,
>>>>>>> 2f8959e (l)
     "metadata": {},
     "output_type": "execute_result"
    }
   ],
   "source": [
<<<<<<< HEAD
    "norm.cdf(177, loc=172, scale=5)"
=======
    "norm.pdf(200, loc=172, scale=5)"
>>>>>>> 2f8959e (l)
   ]
  },
  {
   "cell_type": "markdown",
   "metadata": {},
   "source": [
    "__Q14:__ Turning this question around — suppose we randomly pick one person and measure their height and find they are 2.00 m tall. How surprised should we be at this result, given what we know about the population distribution? In other words, how likely would it be to obtain a value at least as extreme as this? Express this as a probability. "
   ]
  },
  {
   "cell_type": "markdown",
   "metadata": {},
   "source": [
    "__A:__"
   ]
  },
  {
   "cell_type": "code",
<<<<<<< HEAD
   "execution_count": 37,
   "metadata": {},
   "outputs": [
    {
     "data": {
      "text/plain": [
       "1.2365241000331715e-08"
      ]
     },
     "execution_count": 37,
     "metadata": {},
     "output_type": "execute_result"
    }
   ],
   "source": [
    "norm.pdf(200, loc=172, scale=5)"
   ]
=======
   "execution_count": null,
   "metadata": {},
   "outputs": [],
   "source": []
>>>>>>> 2f8959e (l)
  },
  {
   "cell_type": "markdown",
   "metadata": {},
   "source": [
    "What we've just done is calculate the ***p-value*** of the observation of someone 2.00m tall (review *p*-values if you need to on p. 399 of *AoS*). We could calculate this probability by virtue of knowing the population parameters. We were then able to use the known properties of the relevant normal distribution to calculate the probability of observing a value at least as extreme as our test value."
   ]
  },
  {
   "cell_type": "markdown",
   "metadata": {},
   "source": [
    "We're about to come to a pinch, though. We've said a couple of times that we rarely, if ever, know the true population parameters; we have to estimate them from our sample and we cannot even begin to estimate the standard deviation from a single observation. \n",
    "\n",
    "This is very true and usually we have sample sizes larger than one. This means we can calculate the mean of the sample as our best estimate of the population mean and the standard deviation as our best estimate of the population standard deviation. \n",
    "\n",
    "In other words, we are now coming to deal with the sampling distributions we mentioned above as we are generally concerned with the properties of the sample means we obtain. \n",
    "\n",
    "Above, we highlighted one result from the CLT, whereby the sampling distribution (of the mean) becomes narrower and narrower with the square root of the sample size. We remind ourselves that another result from the CLT is that _even if the underlying population distribution is not normal, the sampling distribution will tend to become normal with sufficiently large sample size_. (**Check out p. 199 of AoS if you need to revise this**). This is the key driver for us 'requiring' a certain sample size, for example you may frequently see a minimum sample size of 30 stated in many places. In reality this is simply a rule of thumb; if the underlying distribution is approximately normal then your sampling distribution will already be pretty normal, but if the underlying distribution is heavily skewed then you'd want to increase your sample size."
   ]
  },
  {
   "cell_type": "markdown",
   "metadata": {},
   "source": [
    "__Q15:__ Let's now start from the position of knowing nothing about the heights of people in our town.\n",
    "* Use the random seed of 47, to randomly sample the heights of 50 townsfolk\n",
    "* Estimate the population mean using np.mean\n",
    "* Estimate the population standard deviation using np.std (remember which denominator to use!)\n",
    "* Calculate the (95%) [margin of error](https://www.statisticshowto.datasciencecentral.com/probability-and-statistics/hypothesis-testing/margin-of-error/#WhatMofE) (use the exact critial z value to 2 decimal places - [look this up](https://www.statisticshowto.datasciencecentral.com/probability-and-statistics/find-critical-values/) or use norm.ppf()) Recall that the ***margin of error*** is mentioned on p. 189 of the *AoS* and discussed in depth in that chapter). \n",
    "* Calculate the 95% Confidence Interval of the mean (***confidence intervals*** are defined on p. 385 of *AoS*) \n",
    "* Does this interval include the true population mean?"
   ]
  },
  {
   "cell_type": "markdown",
   "metadata": {},
   "source": [
    "__A:__"
   ]
  },
  {
   "cell_type": "code",
<<<<<<< HEAD
   "execution_count": 38,
=======
   "execution_count": 14,
>>>>>>> 2f8959e (l)
   "metadata": {},
   "outputs": [],
   "source": [
    "seed(47)\n",
<<<<<<< HEAD
    "# take your sample now\n",
    "sample_50_height = townsfolk_sampler(50)"
=======
    "# take your sample now\n"
>>>>>>> 2f8959e (l)
   ]
  },
  {
   "cell_type": "code",
<<<<<<< HEAD
   "execution_count": 39,
   "metadata": {},
   "outputs": [
    {
     "name": "stdout",
     "output_type": "stream",
     "text": [
      "172.7815108576788\n"
     ]
    }
   ],
   "source": [
    "sample_mean_height = np.mean(sample_50_height)\n",
    "print(sample_mean_height)"
   ]
  },
  {
   "cell_type": "code",
   "execution_count": 40,
   "metadata": {},
   "outputs": [
    {
     "name": "stdout",
     "output_type": "stream",
     "text": [
      "4.195424364433547\n"
     ]
    }
   ],
   "source": [
    "sample_std_height = np.std(sample_50_height, ddof=1)\n",
    "print(sample_std_height)"
   ]
  },
  {
   "cell_type": "code",
   "execution_count": 42,
   "metadata": {},
   "outputs": [
    {
     "name": "stdout",
     "output_type": "stream",
     "text": [
      "1.1628909342876539\n"
     ]
    }
   ],
   "source": [
    "z_critical = norm.ppf(0.975)\n",
    "sample_margin_of_error = z_critical * (sample_std_height/np.sqrt(50))\n",
    "print(sample_margin_of_error )"
   ]
  },
  {
   "cell_type": "code",
   "execution_count": 44,
   "metadata": {},
   "outputs": [
    {
     "name": "stdout",
     "output_type": "stream",
     "text": [
      "(171.61861992339115, 173.94440179196644)\n"
     ]
    }
   ],
   "source": [
    "sample_confidence_interval = (sample_mean_height - sample_margin_of_error,\n",
    "                             sample_mean_height + sample_margin_of_error)\n",
    "print(sample_confidence_interval)"
   ]
=======
   "execution_count": null,
   "metadata": {},
   "outputs": [],
   "source": []
  },
  {
   "cell_type": "code",
   "execution_count": null,
   "metadata": {},
   "outputs": [],
   "source": []
  },
  {
   "cell_type": "code",
   "execution_count": null,
   "metadata": {},
   "outputs": [],
   "source": []
  },
  {
   "cell_type": "code",
   "execution_count": null,
   "metadata": {},
   "outputs": [],
   "source": []
>>>>>>> 2f8959e (l)
  },
  {
   "cell_type": "markdown",
   "metadata": {},
   "source": [
    "__Q16:__ Above, we calculated the confidence interval using the critical z value. What is the problem with this? What requirement, or requirements, are we (strictly) failing?"
   ]
  },
  {
   "cell_type": "markdown",
   "metadata": {},
   "source": [
<<<<<<< HEAD
    "__A:__The problem with calculating the confidence interval using the critical z value is that it assumes the population standard deviation is known.\n",
    "\n",
    "This assumption is often not realistic because in most cases, the population standard deviation is unknown and needs to be estimated from the sample data.\n",
    "\n",
    "When the population standard deviation is unknown, it is more appropriate to use the t-distribution instead of the standard normal distribution (z-distribution) to calculate the confidence interval.\n",
    "\n",
    "The t-distribution takes into account the uncertainty introduced by estimating the population standard deviation from the sample.\n",
    "\n",
    "Therefore, the requirement that we are strictly failing when using the critical z value is the knowledge of the population standard deviation."
=======
    "__A:__"
>>>>>>> 2f8959e (l)
   ]
  },
  {
   "cell_type": "markdown",
   "metadata": {},
   "source": [
    "__Q17:__ Calculate the 95% confidence interval for the mean using the _t_ distribution. Is this wider or narrower than that based on the normal distribution above? If you're unsure, you may find this [resource](https://www.statisticshowto.datasciencecentral.com/probability-and-statistics/confidence-interval/) useful. For calculating the critical value, remember how you could calculate this for the normal distribution using norm.ppf()."
   ]
  },
  {
   "cell_type": "markdown",
   "metadata": {},
   "source": [
    "__A:__"
   ]
  },
  {
   "cell_type": "code",
<<<<<<< HEAD
   "execution_count": 45,
   "metadata": {},
   "outputs": [],
   "source": [
    "t_critical = t.ppf(0.975, 49)"
   ]
  },
  {
   "cell_type": "code",
   "execution_count": 46,
   "metadata": {},
   "outputs": [],
   "source": [
    "sample_t_margin_of_error = t_critical * (sample_std_height/np.sqrt(50))"
   ]
  },
  {
   "cell_type": "code",
   "execution_count": 47,
   "metadata": {},
   "outputs": [
    {
     "name": "stdout",
     "output_type": "stream",
     "text": [
      "(171.589184447403, 173.9738372679546)\n"
     ]
    }
   ],
   "source": [
    "sample_t_confidence_interval = (sample_mean_height - sample_t_margin_of_error,\n",
    "                             sample_mean_height + sample_t_margin_of_error)\n",
    "print(sample_t_confidence_interval)"
   ]
=======
   "execution_count": null,
   "metadata": {},
   "outputs": [],
   "source": []
  },
  {
   "cell_type": "code",
   "execution_count": null,
   "metadata": {},
   "outputs": [],
   "source": []
  },
  {
   "cell_type": "code",
   "execution_count": null,
   "metadata": {},
   "outputs": [],
   "source": []
>>>>>>> 2f8959e (l)
  },
  {
   "cell_type": "markdown",
   "metadata": {},
   "source": [
    "This is slightly wider than the previous confidence interval. This reflects the greater uncertainty given that we are estimating population parameters from a sample."
   ]
  },
  {
   "cell_type": "markdown",
   "metadata": {},
   "source": [
    "## 4. Learning outcomes"
   ]
  },
  {
   "cell_type": "markdown",
   "metadata": {},
   "source": [
    "Having completed this project notebook, you now have hands-on experience:\n",
    "* sampling and calculating probabilities from a normal distribution\n",
    "* identifying the correct way to estimate the standard deviation of a population (the population parameter) from a sample\n",
    "* with sampling distribution and now know how the Central Limit Theorem applies\n",
    "* with how to calculate critical values and confidence intervals"
   ]
<<<<<<< HEAD
=======
  },
  {
   "cell_type": "code",
   "execution_count": null,
   "metadata": {},
   "outputs": [],
   "source": []
>>>>>>> 2f8959e (l)
  }
 ],
 "metadata": {
  "kernelspec": {
   "display_name": "Python 3 (ipykernel)",
   "language": "python",
   "name": "python3"
  },
  "language_info": {
   "codemirror_mode": {
    "name": "ipython",
    "version": 3
   },
   "file_extension": ".py",
   "mimetype": "text/x-python",
   "name": "python",
   "nbconvert_exporter": "python",
   "pygments_lexer": "ipython3",
<<<<<<< HEAD
   "version": "3.10.8"
=======
   "version": "3.10.6"
>>>>>>> 2f8959e (l)
  }
 },
 "nbformat": 4,
 "nbformat_minor": 2
}
