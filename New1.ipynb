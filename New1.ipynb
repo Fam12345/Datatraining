{
 "cells": [
  {
   "cell_type": "markdown",
   "id": "97117a20-85dc-4551-8846-dc46e8eb1f09",
   "metadata": {},
   "source": [
    "I com confused."
   ]
  },
  {
   "cell_type": "code",
   "execution_count": null,
   "id": "47b4a460-7820-47d6-81ee-aeaec1a0ab3a",
   "metadata": {},
   "outputs": [],
   "source": []
  }
 ],
 "metadata": {
  "kernelspec": {
   "display_name": "Python 3 (ipykernel)",
   "language": "python",
   "name": "python3"
  },
  "language_info": {
   "codemirror_mode": {
    "name": "ipython",
    "version": 3
   },
   "file_extension": ".py",
   "mimetype": "text/x-python",
   "name": "python",
   "nbconvert_exporter": "python",
   "pygments_lexer": "ipython3",
   "version": "3.11.4"
  }
 },
 "nbformat": 4,
 "nbformat_minor": 5
}
