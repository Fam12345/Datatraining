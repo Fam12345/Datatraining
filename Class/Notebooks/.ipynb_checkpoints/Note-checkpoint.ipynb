{
 "cells": [
  {
   "cell_type": "markdown",
   "id": "23ed9ab2-8d6d-451b-aa2f-76540e97475f",
   "metadata": {},
   "source": [
    "This is myPython."
   ]
  },
  {
   "cell_type": "markdown",
   "id": "b4e1ca79-be54-4615-a2fe-efc5eeaefa2b",
   "metadata": {},
   "source": [
    "Please update"
   ]
  },
  {
   "cell_type": "code",
   "execution_count": null,
   "id": "e184b9f1-063c-45f8-b4db-5b64dd424356",
   "metadata": {},
   "outputs": [],
   "source": []
  }
 ],
 "metadata": {
  "kernelspec": {
   "display_name": "Python 3 (ipykernel)",
   "language": "python",
   "name": "python3"
  },
  "language_info": {
   "codemirror_mode": {
    "name": "ipython",
    "version": 3
   },
   "file_extension": ".py",
   "mimetype": "text/x-python",
   "name": "python",
   "nbconvert_exporter": "python",
   "pygments_lexer": "ipython3",
   "version": "3.11.5"
  }
 },
 "nbformat": 4,
 "nbformat_minor": 5
}
