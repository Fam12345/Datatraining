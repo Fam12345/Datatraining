{
 "cells": [
  {
   "cell_type": "code",
   "execution_count": 12,
   "id": "1a84ba5d-ca1b-4467-855b-c2824bc4d075",
   "metadata": {
    "jupyter": {
     "source_hidden": true
    },
    "tags": []
   },
   "outputs": [],
   "source": [
    "import sys\n",
    "import pandas as pd\n",
    "import numpy as np\n",
    "import matplotlib.pyplot as plt"
   ]
  },
  {
   "cell_type": "code",
   "execution_count": 13,
   "id": "12dfb101-9721-4f79-9237-03d550edbe73",
   "metadata": {},
   "outputs": [
    {
     "data": {
      "text/plain": [
       "[1, 2, 3, 4, 5, 6]"
      ]
     },
     "execution_count": 13,
     "metadata": {},
     "output_type": "execute_result"
    }
   ],
   "source": [
    "mylist=[1,2,3,4,5,6]\n",
    "mylist"
   ]
  },
  {
   "cell_type": "code",
   "execution_count": 14,
   "id": "70a755c4-5fc7-41d1-ac9a-30d7a5d61b62",
   "metadata": {},
   "outputs": [
    {
     "data": {
      "text/plain": [
       "[1, 2, 3, 4, 5, 6]"
      ]
     },
     "execution_count": 14,
     "metadata": {},
     "output_type": "execute_result"
    }
   ],
   "source": [
    "mylist[0:7]"
   ]
  },
  {
   "cell_type": "code",
   "execution_count": 15,
   "id": "17ba5982-f5f8-452a-bb9d-dee7ea29ec99",
   "metadata": {},
   "outputs": [
    {
     "data": {
      "text/plain": [
       "[1, 2, 3, 4, 5, 6]"
      ]
     },
     "execution_count": 15,
     "metadata": {},
     "output_type": "execute_result"
    }
   ],
   "source": [
    "mylist[::1]"
   ]
  },
  {
   "cell_type": "code",
   "execution_count": 16,
   "id": "d796f2c8-707d-44c5-8893-b4bfe2c9bb02",
   "metadata": {},
   "outputs": [
    {
     "data": {
      "text/plain": [
       "[2, 3, 4, 5, 6]"
      ]
     },
     "execution_count": 16,
     "metadata": {},
     "output_type": "execute_result"
    }
   ],
   "source": [
    "mylist[1::]\n"
   ]
  },
  {
   "cell_type": "code",
   "execution_count": 17,
   "id": "7aa2c9de-891a-4b43-8d01-8851e023f133",
   "metadata": {},
   "outputs": [
    {
     "data": {
      "text/plain": [
       "[6]"
      ]
     },
     "execution_count": 17,
     "metadata": {},
     "output_type": "execute_result"
    }
   ],
   "source": [
    "mylist[5::]"
   ]
  },
  {
   "cell_type": "code",
   "execution_count": 18,
   "id": "a5a0c0a8-4b26-42ab-9707-ee2499a72b8f",
   "metadata": {},
   "outputs": [
    {
     "name": "stdout",
     "output_type": "stream",
     "text": [
      "0\n",
      "1\n"
     ]
    }
   ],
   "source": [
    "for i in range (2):\n",
    "    print (i)"
   ]
  },
  {
   "cell_type": "code",
   "execution_count": 19,
   "id": "e9f01af4-fb56-49d7-b183-a9418b5a95b4",
   "metadata": {},
   "outputs": [
    {
     "data": {
      "text/plain": [
       "[0, 1, 2, 3, 4, 5, 6, 7, 8, 9]"
      ]
     },
     "execution_count": 19,
     "metadata": {},
     "output_type": "execute_result"
    }
   ],
   "source": [
    "list(range(101))[:10:]\n"
   ]
  },
  {
   "cell_type": "code",
   "execution_count": 20,
   "id": "da40ce27-f10e-41c5-ba27-89e8edc02ab2",
   "metadata": {},
   "outputs": [
    {
     "data": {
      "text/plain": [
       "[1, 'Monty', 'Python', 'Monty', 5, 'Monty Python', 7, 'Monty', 'Python']"
      ]
     },
     "execution_count": 20,
     "metadata": {},
     "output_type": "execute_result"
    }
   ],
   "source": [
    "['Monty Python' if n % 6 == 0 else 'Python' if n % 3 == 0 else 'Monty' \n",
    " if n % 2 == 0 else n for n in range(1, 10)]"
   ]
  },
  {
   "cell_type": "raw",
   "id": "ba99785f-692d-4c4d-9213-8a7e2089a723",
   "metadata": {},
   "source": [
    "1. Lists:\n",
    "    append\n",
    "    Add to a list\n",
    "    Slice a list\n",
    "    Sort a list\n",
    "    Check if an item is in a list\n",
    "2. Dictionaries:\n",
    "    Add an item to a dictionary\n",
    "    Check if an item is in a dictionary\n",
    "    Access an item from a dictionary\n",
    "3. Strings:\n",
    "    Lowercase/uppercase/capitalize\n",
    "    .split()\n",
    "    Slice a string, \n",
    "    sort a string, \n",
    "    reverse a string\n",
    "    Add to a string\n",
    "4. Functions:\n",
    "    Return vs print\n",
    "    How to call a function that you’ve written\n",
    "    How to use parameters within the function\n",
    "5. Control flow:\n",
    "    If/elif/else statements\n",
    "    For loops\n",
    "    How to loop over a list/string and access the items vs using range(len)\n",
    "    Enumerate\n",
    "    While loops\n",
    " Pandas:\n",
    "     Selecting a column, selecting multiple columns, creating a new column\n",
    "     Groupby\n",
    "     Dropping a column\n",
    "     Filtering for particular rows\n",
    "     Dropna/fillna\n",
    "     set_index/reset_index\n",
    "    Should know Apply (and associated lambda functions) \n",
    "    Less important: Pivot/melt "
   ]
  },
  {
   "cell_type": "code",
   "execution_count": null,
   "id": "fe9a8a1f-f729-4a97-bee3-1a6761c2c16c",
   "metadata": {},
   "outputs": [],
   "source": []
  }
 ],
 "metadata": {
  "kernelspec": {
   "display_name": "Python 3 (ipykernel)",
   "language": "python",
   "name": "python3"
  },
  "language_info": {
   "codemirror_mode": {
    "name": "ipython",
    "version": 3
   },
   "file_extension": ".py",
   "mimetype": "text/x-python",
   "name": "python",
   "nbconvert_exporter": "python",
   "pygments_lexer": "ipython3",
   "version": "3.9.12"
  },
  "toc-autonumbering": true,
  "toc-showmarkdowntxt": true
 },
 "nbformat": 4,
 "nbformat_minor": 5
}
